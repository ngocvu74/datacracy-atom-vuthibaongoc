{
  "nbformat": 4,
  "nbformat_minor": 0,
  "metadata": {
    "colab": {
      "name": "2. Flow Control - A Short Program: Rock, Paper, Scissors.ipynb",
      "provenance": [],
      "collapsed_sections": [],
      "authorship_tag": "ABX9TyPfvQ1ZbimN9nEyWLileqs3",
      "include_colab_link": true
    },
    "kernelspec": {
      "name": "python3",
      "display_name": "Python 3"
    },
    "language_info": {
      "name": "python"
    }
  },
  "cells": [
    {
      "cell_type": "markdown",
      "metadata": {
        "id": "view-in-github",
        "colab_type": "text"
      },
      "source": [
        "<a href=\"https://colab.research.google.com/github/ngocvu74/datacracy-atom-vuthibaongoc/blob/main/2_Flow_Control_A_Short_Program_Rock%2C_Paper%2C_Scissors.ipynb\" target=\"_parent\"><img src=\"https://colab.research.google.com/assets/colab-badge.svg\" alt=\"Open In Colab\"/></a>"
      ]
    },
    {
      "cell_type": "code",
      "metadata": {
        "colab": {
          "base_uri": "https://localhost:8080/",
          "height": 634
        },
        "id": "UeDvJOQsAqpx",
        "outputId": "be832e9e-b96d-4fb5-af4a-753b13191aa7"
      },
      "source": [
        "import random, sys\n",
        "print('ROCK, PAPER, SCISSORS')\n",
        "wins = 0\n",
        "losses = 0\n",
        "ties = 0\n",
        "\n",
        "while True:\n",
        "  print('%s Wins, %s Losses, %s Ties' % (wins,losses,ties))\n",
        "  while True:\n",
        "    print('Enter your move: (r)ock (p)aper (s)cissors or (q)uit')\n",
        "    playerMove = input()\n",
        "    if playerMove == 'q':\n",
        "      sys.exit()\n",
        "    if playerMove == 'r' or playerMove == 'p' or playerMove == 's':\n",
        "      break\n",
        "    print('Type one of r, p, s, or q.')\n",
        "\n",
        "  if playerMove == 'r':\n",
        "    print('ROCK versus...')\n",
        "  elif playerMove =='p':\n",
        "    print('PAPER versus...')\n",
        "  elif playerMove == 's':\n",
        "    print('SCISSORS verus...')\n",
        "\n",
        "  randomNumber = random.randint(1,3)\n",
        "  if randomNumber == 1:\n",
        "    computerMove = 'r'\n",
        "    print('ROCK')\n",
        "  elif randomNumber == 2:\n",
        "    computerMove = 'p'\n",
        "    print('PAPER')\n",
        "  elif randomNumber == 3:\n",
        "    computerMove = 's'\n",
        "    print('SCISSORS')\n",
        "\n",
        "  if playerMove == computerMove:\n",
        "    print('It is a tie!')\n",
        "    ties = ties + 1\n",
        "  elif playerMove == 'r' and computerMove == 's':\n",
        "    print('You win!')\n",
        "    wins = wins + 1\n",
        "  elif playerMove == 'p' and computerMove == 'r': \n",
        "    print('You win!')\n",
        "    wins = wins + 1\n",
        "  elif playerMove == 's' and computerMove == 'p':\n",
        "    print('You win!')\n",
        "    wins = wins + 1\n",
        "  elif playerMove == 'r' and computerMove == 'p':\n",
        "    print('You lose!')\n",
        "    losses = losses + 1\n",
        "  elif playerMove == 'p' and computerMove == 's':\n",
        "    print('You lose!')\n",
        "    losses = losses + 1\n",
        "  elif playerMove == 's' and computerMove == 'r':\n",
        "    print('You lose!')\n",
        "    losses = losses + 1\n"
      ],
      "execution_count": 2,
      "outputs": [
        {
          "output_type": "stream",
          "text": [
            "ROCK, PAPER, SCISSORS\n",
            "0 Wins, 0 Losses, 0 Ties\n",
            "Enter your move: (r)ock (p)aper (s)cissors or (q)uit\n",
            "r\n",
            "ROCK versus...\n",
            "ROCK\n",
            "It is a tie!\n",
            "0 Wins, 0 Losses, 1 Ties\n",
            "Enter your move: (r)ock (p)aper (s)cissors or (q)uit\n",
            "p\n",
            "PAPER versus...\n",
            "PAPER\n",
            "It is a tie!\n",
            "0 Wins, 0 Losses, 2 Ties\n",
            "Enter your move: (r)ock (p)aper (s)cissors or (q)uit\n",
            "s\n",
            "SCISSORS verus...\n",
            "SCISSORS\n",
            "It is a tie!\n",
            "0 Wins, 0 Losses, 3 Ties\n",
            "Enter your move: (r)ock (p)aper (s)cissors or (q)uit\n",
            "r\n",
            "ROCK versus...\n",
            "ROCK\n",
            "It is a tie!\n",
            "0 Wins, 0 Losses, 4 Ties\n",
            "Enter your move: (r)ock (p)aper (s)cissors or (q)uit\n",
            "q\n"
          ],
          "name": "stdout"
        },
        {
          "output_type": "error",
          "ename": "SystemExit",
          "evalue": "ignored",
          "traceback": [
            "An exception has occurred, use %tb to see the full traceback.\n",
            "\u001b[0;31mSystemExit\u001b[0m\n"
          ]
        },
        {
          "output_type": "stream",
          "text": [
            "/usr/local/lib/python3.7/dist-packages/IPython/core/interactiveshell.py:2890: UserWarning: To exit: use 'exit', 'quit', or Ctrl-D.\n",
            "  warn(\"To exit: use 'exit', 'quit', or Ctrl-D.\", stacklevel=1)\n"
          ],
          "name": "stderr"
        }
      ]
    }
  ]
}