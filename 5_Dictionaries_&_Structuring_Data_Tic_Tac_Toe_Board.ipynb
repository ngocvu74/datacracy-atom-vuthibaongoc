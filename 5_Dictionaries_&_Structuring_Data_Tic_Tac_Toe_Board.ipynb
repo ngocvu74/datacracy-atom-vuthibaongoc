{
  "nbformat": 4,
  "nbformat_minor": 0,
  "metadata": {
    "colab": {
      "name": "5. Dictionaries & Structuring Data - Tic-Tac-Toe Board.ipynb",
      "provenance": [],
      "authorship_tag": "ABX9TyNaoxKBNRLFY+zwbINp+zxW",
      "include_colab_link": true
    },
    "kernelspec": {
      "name": "python3",
      "display_name": "Python 3"
    },
    "language_info": {
      "name": "python"
    }
  },
  "cells": [
    {
      "cell_type": "markdown",
      "metadata": {
        "id": "view-in-github",
        "colab_type": "text"
      },
      "source": [
        "<a href=\"https://colab.research.google.com/github/ngocvu74/datacracy-atom-vuthibaongoc/blob/main/5_Dictionaries_%26_Structuring_Data_Tic_Tac_Toe_Board.ipynb\" target=\"_parent\"><img src=\"https://colab.research.google.com/assets/colab-badge.svg\" alt=\"Open In Colab\"/></a>"
      ]
    },
    {
      "cell_type": "code",
      "metadata": {
        "colab": {
          "base_uri": "https://localhost:8080/"
        },
        "id": "Li0N7Dp-Rqg1",
        "outputId": "e30a461b-cc12-4be6-8d13-8a2112ecc344"
      },
      "source": [
        "theBoard = {'top-L': ' ', 'top-M': ' ', 'top-R': ' ',\n",
        "'mid-L': ' ', 'mid-M': ' ', 'mid-R': ' ',\n",
        "'low-L': ' ', 'low-M': ' ', 'low-R': ' '}\n",
        "def printBoard(board):\n",
        "  print(board['top-L'] + '|' + board['top-M'] + '|' + board['top-R'])\n",
        "  print('-+-+-')\n",
        "  print(board['mid-L'] + '|' + board['mid-M'] + '|' + board['mid-R'])\n",
        "  print('-+-+-')\n",
        "  print(board['low-L'] + '|' + board['low-M'] + '|' + board['low-R'])\n",
        "printBoard(theBoard)"
      ],
      "execution_count": 4,
      "outputs": [
        {
          "output_type": "stream",
          "text": [
            " | | \n",
            "-+-+-\n",
            " | | \n",
            "-+-+-\n",
            " | | \n"
          ],
          "name": "stdout"
        }
      ]
    },
    {
      "cell_type": "code",
      "metadata": {
        "colab": {
          "base_uri": "https://localhost:8080/"
        },
        "id": "0dPB9ZQfTGYf",
        "outputId": "89c70005-2a1a-4135-a892-80cb8df7e2dc"
      },
      "source": [
        "theBoard = {'top-L': 'O', 'top-M': 'O', 'top-R': 'O', 'mid-L': 'X', 'mid-M':\n",
        "'X', 'mid-R': ' ', 'low-L': ' ', 'low-M': ' ', 'low-R': 'X'}\n",
        "def printBoard(board):\n",
        "  print(board['top-L'] + '|' + board['top-M'] + '|' + board['top-R'])\n",
        "  print('-+-+-')\n",
        "  print(board['mid-L'] + '|' + board['mid-M'] + '|' + board['mid-R'])\n",
        "  print('-+-+-')\n",
        "  print(board['low-L'] + '|' + board['low-M'] + '|' + board['low-R'])\n",
        "printBoard(theBoard)"
      ],
      "execution_count": 11,
      "outputs": [
        {
          "output_type": "stream",
          "text": [
            "O|O|O\n",
            "-+-+-\n",
            "X|X| \n",
            "-+-+-\n",
            " | |X\n"
          ],
          "name": "stdout"
        }
      ]
    },
    {
      "cell_type": "code",
      "metadata": {
        "colab": {
          "base_uri": "https://localhost:8080/"
        },
        "id": "X-rsBYDdVFrp",
        "outputId": "0136de85-ffcb-4710-bf55-f887e03f9e24"
      },
      "source": [
        "theBoard = {'top-L': ' ', 'top-M': ' ', 'top-R': ' ',\n",
        "'mid-L': ' ', 'mid-M': ' ', 'mid-R': ' ',\n",
        "'low-L': ' ', 'low-M': ' ', 'low-R': ' '}\n",
        "def printBoard(board):\n",
        "  print(board['top-L'] + '|' + board['top-M'] + '|' + board['top-R'])\n",
        "  print('-+-+-')\n",
        "  print(board['mid-L'] + '|' + board['mid-M'] + '|' + board['mid-R'])\n",
        "  print('-+-+-')\n",
        "  print(board['low-L'] + '|' + board['low-M'] + '|' + board['low-R'])\n",
        "\n",
        "turn = 'X'\n",
        "for i in range(9):\n",
        "  printBoard(theBoard)\n",
        "  print('Turn for ' + turn + '. Move on which space?')\n",
        "  move = input()\n",
        "  theBoard[move] = turn\n",
        "  if turn == 'X':\n",
        "     turn = 'O'\n",
        "  else:\n",
        "     turn = 'X'\n",
        "printBoard(theBoard)"
      ],
      "execution_count": 19,
      "outputs": [
        {
          "output_type": "stream",
          "text": [
            " | | \n",
            "-+-+-\n",
            " | | \n",
            "-+-+-\n",
            " | | \n",
            "Turn for X. Move on which space?\n",
            "top-M\n",
            " |X| \n",
            "-+-+-\n",
            " | | \n",
            "-+-+-\n",
            " | | \n",
            "Turn for O. Move on which space?\n",
            "low-R\n",
            " |X| \n",
            "-+-+-\n",
            " | | \n",
            "-+-+-\n",
            " | |O\n",
            "Turn for X. Move on which space?\n",
            "mid-M\n",
            " |X| \n",
            "-+-+-\n",
            " |X| \n",
            "-+-+-\n",
            " | |O\n",
            "Turn for O. Move on which space?\n",
            "mid-R\n",
            " |X| \n",
            "-+-+-\n",
            " |X|O\n",
            "-+-+-\n",
            " | |O\n",
            "Turn for X. Move on which space?\n",
            "low-M\n",
            " |X| \n",
            "-+-+-\n",
            " |X|O\n",
            "-+-+-\n",
            " |X|O\n",
            "Turn for O. Move on which space?\n",
            "top-L\n",
            "O|X| \n",
            "-+-+-\n",
            " |X|O\n",
            "-+-+-\n",
            " |X|O\n",
            "Turn for X. Move on which space?\n",
            "top-R\n",
            "O|X|X\n",
            "-+-+-\n",
            " |X|O\n",
            "-+-+-\n",
            " |X|O\n",
            "Turn for O. Move on which space?\n",
            "mid-L\n",
            "O|X|X\n",
            "-+-+-\n",
            "O|X|O\n",
            "-+-+-\n",
            " |X|O\n",
            "Turn for X. Move on which space?\n",
            "low-L\n",
            "O|X|X\n",
            "-+-+-\n",
            "O|X|O\n",
            "-+-+-\n",
            "X|X|O\n"
          ],
          "name": "stdout"
        }
      ]
    }
  ]
}