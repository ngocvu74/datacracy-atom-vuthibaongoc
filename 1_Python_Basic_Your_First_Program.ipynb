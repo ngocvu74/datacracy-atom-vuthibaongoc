{
  "nbformat": 4,
  "nbformat_minor": 0,
  "metadata": {
    "colab": {
      "name": "1. Python Basic - Your First Program.ipynb",
      "provenance": [],
      "collapsed_sections": [],
      "authorship_tag": "ABX9TyN7vWuCUlLQ2tF5CHW0v9CH",
      "include_colab_link": true
    },
    "kernelspec": {
      "name": "python3",
      "display_name": "Python 3"
    },
    "language_info": {
      "name": "python"
    }
  },
  "cells": [
    {
      "cell_type": "markdown",
      "metadata": {
        "id": "view-in-github",
        "colab_type": "text"
      },
      "source": [
        "<a href=\"https://colab.research.google.com/github/ngocvu74/datacracy-atom-vuthibaongoc/blob/main/1_Python_Basic_Your_First_Program.ipynb\" target=\"_parent\"><img src=\"https://colab.research.google.com/assets/colab-badge.svg\" alt=\"Open In Colab\"/></a>"
      ]
    },
    {
      "cell_type": "code",
      "metadata": {
        "colab": {
          "base_uri": "https://localhost:8080/"
        },
        "id": "SCgPuDog81bT",
        "outputId": "559665bb-2f99-4f5f-f5e5-b93f8cac6cbe"
      },
      "source": [
        "print('Hello, world!')\n",
        "print('What is your name?')"
      ],
      "execution_count": 2,
      "outputs": [
        {
          "output_type": "stream",
          "text": [
            "Hello, world!\n",
            "What is your name?\n"
          ],
          "name": "stdout"
        }
      ]
    },
    {
      "cell_type": "code",
      "metadata": {
        "colab": {
          "base_uri": "https://localhost:8080/"
        },
        "id": "KeXBqNvO98n5",
        "outputId": "15629bee-adb0-400c-864e-57da6636e78c"
      },
      "source": [
        "myName = input()"
      ],
      "execution_count": 9,
      "outputs": [
        {
          "output_type": "stream",
          "text": [
            "Vu Thi Bao Ngoc\n"
          ],
          "name": "stdout"
        }
      ]
    },
    {
      "cell_type": "code",
      "metadata": {
        "colab": {
          "base_uri": "https://localhost:8080/"
        },
        "id": "f8S4EdVB-GEd",
        "outputId": "a66b5515-e5ef-4d96-bfea-95a8bef67692"
      },
      "source": [
        "print('It is good to meet you, ' + myName)"
      ],
      "execution_count": 11,
      "outputs": [
        {
          "output_type": "stream",
          "text": [
            "It is good to meet you, Vu Thi Bao Ngoc\n"
          ],
          "name": "stdout"
        }
      ]
    },
    {
      "cell_type": "code",
      "metadata": {
        "colab": {
          "base_uri": "https://localhost:8080/"
        },
        "id": "0udQyCI2-bNQ",
        "outputId": "a4163c67-22c3-4e01-fd9e-f2985d00da47"
      },
      "source": [
        "print('The length of your name is:')\n",
        "print(len(myName))\n"
      ],
      "execution_count": 12,
      "outputs": [
        {
          "output_type": "stream",
          "text": [
            "The length of your name is:\n",
            "15\n"
          ],
          "name": "stdout"
        }
      ]
    },
    {
      "cell_type": "code",
      "metadata": {
        "colab": {
          "base_uri": "https://localhost:8080/"
        },
        "id": "2Gv0ILNl-hdd",
        "outputId": "7d344268-bb5c-4dd1-89d9-5003a45d5bda"
      },
      "source": [
        "print('What is your age?')\n",
        "myAge = input()\n",
        "print('You will be ' + str(int(myAge) + 1) + ' in a year.')"
      ],
      "execution_count": 16,
      "outputs": [
        {
          "output_type": "stream",
          "text": [
            "What is your age?\n",
            "27\n",
            "You will be 28 in a year.\n"
          ],
          "name": "stdout"
        }
      ]
    }
  ]
}